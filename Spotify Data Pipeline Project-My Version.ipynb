{
 "cells": [
  {
   "cell_type": "markdown",
   "id": "f4ca8b19",
   "metadata": {},
   "source": [
    "## Import Libraries"
   ]
  },
  {
   "cell_type": "code",
   "execution_count": 159,
   "id": "14a7cf1d",
   "metadata": {},
   "outputs": [],
   "source": [
    "#!pip install spotipy"
   ]
  },
  {
   "cell_type": "code",
   "execution_count": 7,
   "id": "36c80ced",
   "metadata": {},
   "outputs": [],
   "source": [
    "import spotipy\n",
    "from spotipy.oauth2 import SpotifyClientCredentials\n",
    "import pandas as pd"
   ]
  },
  {
   "cell_type": "code",
   "execution_count": 8,
   "id": "24e06a56",
   "metadata": {},
   "outputs": [],
   "source": [
    "#add client_id and client_secret key\n",
    "client_credentials_manager = SpotifyClientCredentials(client_id=\"9150b2de1c624321b2a8ab3112193ea0\", client_secret=\"797cf98f1cad49e6b68661e94fdb2335\")"
   ]
  },
  {
   "cell_type": "code",
   "execution_count": 9,
   "id": "2d4ba23f",
   "metadata": {},
   "outputs": [],
   "source": [
    "sp = spotipy.Spotify(client_credentials_manager = client_credentials_manager)"
   ]
  },
  {
   "cell_type": "markdown",
   "id": "d1f5b861",
   "metadata": {},
   "source": [
    "## Discover Weekly - Updates Every Monday"
   ]
  },
  {
   "cell_type": "code",
   "execution_count": 14,
   "id": "51bd1ded",
   "metadata": {},
   "outputs": [],
   "source": [
    "playlist_link = \"https://open.spotify.com/playlist/37i9dQZEVXcBP5PZRnxfqR\""
   ]
  },
  {
   "cell_type": "code",
   "execution_count": 15,
   "id": "0f122fea",
   "metadata": {},
   "outputs": [],
   "source": [
    "playlist_URI = playlist_link.split(\"/\")[-1].split('?')[0]"
   ]
  },
  {
   "cell_type": "code",
   "execution_count": 16,
   "id": "9929e020",
   "metadata": {},
   "outputs": [],
   "source": [
    "#Get full details of the tracks of a playlist:  playlist_tracks(playlist_id, fields=None, limit=100, offset=0, market=None, additional_types=('track', ))\n",
    "data = sp.playlist_tracks(playlist_URI)"
   ]
  },
  {
   "cell_type": "code",
   "execution_count": 17,
   "id": "99537210",
   "metadata": {},
   "outputs": [
    {
     "name": "stdout",
     "output_type": "stream",
     "text": [
      "<class 'dict'>\n"
     ]
    }
   ],
   "source": [
    "print(type(data))"
   ]
  },
  {
   "cell_type": "code",
   "execution_count": 18,
   "id": "05db4d0b",
   "metadata": {},
   "outputs": [
    {
     "name": "stdout",
     "output_type": "stream",
     "text": [
      "30\n"
     ]
    }
   ],
   "source": [
    "#No. of song in the list\n",
    "print(len(data['items']))"
   ]
  },
  {
   "cell_type": "code",
   "execution_count": 19,
   "id": "ef389262",
   "metadata": {},
   "outputs": [
    {
     "name": "stdout",
     "output_type": "stream",
     "text": [
      "dict_keys(['added_at', 'added_by', 'is_local', 'primary_color', 'track', 'video_thumbnail'])\n"
     ]
    }
   ],
   "source": [
    "#Each element in the list contain a dictionary\n",
    "print(data['items'][0].keys())"
   ]
  },
  {
   "cell_type": "code",
   "execution_count": 20,
   "id": "67767ece",
   "metadata": {},
   "outputs": [
    {
     "name": "stdout",
     "output_type": "stream",
     "text": [
      "dict_keys(['album', 'artists', 'available_markets', 'disc_number', 'duration_ms', 'episode', 'explicit', 'external_ids', 'external_urls', 'href', 'id', 'is_local', 'name', 'popularity', 'preview_url', 'track', 'track_number', 'type', 'uri'])\n"
     ]
    }
   ],
   "source": [
    "print(data['items'][0]['track'].keys())"
   ]
  },
  {
   "cell_type": "code",
   "execution_count": 21,
   "id": "0aa08539",
   "metadata": {},
   "outputs": [
    {
     "name": "stdout",
     "output_type": "stream",
     "text": [
      "dict_keys(['external_urls', 'href', 'id', 'type', 'uri'])\n"
     ]
    }
   ],
   "source": [
    "print(data['items'][0]['added_by'].keys())"
   ]
  },
  {
   "cell_type": "markdown",
   "id": "5ca725ee",
   "metadata": {},
   "source": [
    "## Artist Table"
   ]
  },
  {
   "cell_type": "code",
   "execution_count": 22,
   "id": "3133b10b",
   "metadata": {},
   "outputs": [
    {
     "name": "stdout",
     "output_type": "stream",
     "text": [
      "[{'external_urls': {'spotify': 'https://open.spotify.com/artist/5Upulgzy3ikWGBdcVRt9FN'}, 'href': 'https://api.spotify.com/v1/artists/5Upulgzy3ikWGBdcVRt9FN', 'id': '5Upulgzy3ikWGBdcVRt9FN', 'name': 'Raiyan', 'type': 'artist', 'uri': 'spotify:artist:5Upulgzy3ikWGBdcVRt9FN'}, {'external_urls': {'spotify': 'https://open.spotify.com/artist/3vFBVzDB7Kr8CwkwjTKQTE'}, 'href': 'https://api.spotify.com/v1/artists/3vFBVzDB7Kr8CwkwjTKQTE', 'id': '3vFBVzDB7Kr8CwkwjTKQTE', 'name': 'Twinkle Thareja', 'type': 'artist', 'uri': 'spotify:artist:3vFBVzDB7Kr8CwkwjTKQTE'}]\n"
     ]
    }
   ],
   "source": [
    "print(data['items'][0]['track']['artists'])"
   ]
  },
  {
   "cell_type": "code",
   "execution_count": 23,
   "id": "6472f2b8",
   "metadata": {},
   "outputs": [
    {
     "name": "stdout",
     "output_type": "stream",
     "text": [
      "Raiyan\n",
      "5Upulgzy3ikWGBdcVRt9FN\n",
      "https://open.spotify.com/artist/5Upulgzy3ikWGBdcVRt9FN\n"
     ]
    }
   ],
   "source": [
    "print(data['items'][0]['track']['artists'][0]['name'])\n",
    "print(data['items'][0]['track']['artists'][0]['id'])\n",
    "print(data['items'][0]['track']['artists'][0]['external_urls']['spotify'])"
   ]
  },
  {
   "cell_type": "code",
   "execution_count": 24,
   "id": "6f02d80e",
   "metadata": {},
   "outputs": [],
   "source": [
    "artist_list = []\n",
    "for row in data['items']: #data['items'] is a list\n",
    "    for key, value in row.items(): #Each element in the list is a dict\n",
    "        if key == \"track\":         #Track is one of the keys\n",
    "            for artist in value['artists']:\n",
    "                artist_dict = {'artist_id':artist['id'], 'artist_name':artist['name'], 'spotify_url': artist['external_urls']['spotify']}\n",
    "                artist_list.append(artist_dict)"
   ]
  },
  {
   "cell_type": "code",
   "execution_count": 25,
   "id": "002c749b",
   "metadata": {},
   "outputs": [
    {
     "data": {
      "text/html": [
       "<div>\n",
       "<style scoped>\n",
       "    .dataframe tbody tr th:only-of-type {\n",
       "        vertical-align: middle;\n",
       "    }\n",
       "\n",
       "    .dataframe tbody tr th {\n",
       "        vertical-align: top;\n",
       "    }\n",
       "\n",
       "    .dataframe thead th {\n",
       "        text-align: right;\n",
       "    }\n",
       "</style>\n",
       "<table border=\"1\" class=\"dataframe\">\n",
       "  <thead>\n",
       "    <tr style=\"text-align: right;\">\n",
       "      <th></th>\n",
       "      <th>artist_id</th>\n",
       "      <th>artist_name</th>\n",
       "      <th>spotify_url</th>\n",
       "    </tr>\n",
       "  </thead>\n",
       "  <tbody>\n",
       "    <tr>\n",
       "      <th>0</th>\n",
       "      <td>5Upulgzy3ikWGBdcVRt9FN</td>\n",
       "      <td>Raiyan</td>\n",
       "      <td>https://open.spotify.com/artist/5Upulgzy3ikWGB...</td>\n",
       "    </tr>\n",
       "    <tr>\n",
       "      <th>1</th>\n",
       "      <td>3vFBVzDB7Kr8CwkwjTKQTE</td>\n",
       "      <td>Twinkle Thareja</td>\n",
       "      <td>https://open.spotify.com/artist/3vFBVzDB7Kr8Cw...</td>\n",
       "    </tr>\n",
       "    <tr>\n",
       "      <th>2</th>\n",
       "      <td>4B9efXsA6sv4w3vts8E0T7</td>\n",
       "      <td>Sanju Rathod</td>\n",
       "      <td>https://open.spotify.com/artist/4B9efXsA6sv4w3...</td>\n",
       "    </tr>\n",
       "    <tr>\n",
       "      <th>3</th>\n",
       "      <td>2zExApX8DZoAYwTeIM1fMv</td>\n",
       "      <td>G-Spark</td>\n",
       "      <td>https://open.spotify.com/artist/2zExApX8DZoAYw...</td>\n",
       "    </tr>\n",
       "    <tr>\n",
       "      <th>4</th>\n",
       "      <td>7C2uVXwFKLlwHteHGnMLhZ</td>\n",
       "      <td>Lewis Hanton</td>\n",
       "      <td>https://open.spotify.com/artist/7C2uVXwFKLlwHt...</td>\n",
       "    </tr>\n",
       "  </tbody>\n",
       "</table>\n",
       "</div>"
      ],
      "text/plain": [
       "                artist_id      artist_name  \\\n",
       "0  5Upulgzy3ikWGBdcVRt9FN           Raiyan   \n",
       "1  3vFBVzDB7Kr8CwkwjTKQTE  Twinkle Thareja   \n",
       "2  4B9efXsA6sv4w3vts8E0T7     Sanju Rathod   \n",
       "3  2zExApX8DZoAYwTeIM1fMv          G-Spark   \n",
       "4  7C2uVXwFKLlwHteHGnMLhZ     Lewis Hanton   \n",
       "\n",
       "                                         spotify_url  \n",
       "0  https://open.spotify.com/artist/5Upulgzy3ikWGB...  \n",
       "1  https://open.spotify.com/artist/3vFBVzDB7Kr8Cw...  \n",
       "2  https://open.spotify.com/artist/4B9efXsA6sv4w3...  \n",
       "3  https://open.spotify.com/artist/2zExApX8DZoAYw...  \n",
       "4  https://open.spotify.com/artist/7C2uVXwFKLlwHt...  "
      ]
     },
     "metadata": {},
     "output_type": "display_data"
    },
    {
     "name": "stdout",
     "output_type": "stream",
     "text": [
      "<class 'pandas.core.frame.DataFrame'>\n",
      "Int64Index: 52 entries, 0 to 51\n",
      "Data columns (total 3 columns):\n",
      " #   Column       Non-Null Count  Dtype \n",
      "---  ------       --------------  ----- \n",
      " 0   artist_id    52 non-null     object\n",
      " 1   artist_name  52 non-null     object\n",
      " 2   spotify_url  52 non-null     object\n",
      "dtypes: object(3)\n",
      "memory usage: 1.6+ KB\n"
     ]
    },
    {
     "data": {
      "text/plain": [
       "None"
      ]
     },
     "metadata": {},
     "output_type": "display_data"
    },
    {
     "data": {
      "text/plain": [
       "artist_id      object\n",
       "artist_name    object\n",
       "spotify_url    object\n",
       "dtype: object"
      ]
     },
     "metadata": {},
     "output_type": "display_data"
    }
   ],
   "source": [
    "artist_df = pd.DataFrame(artist_list)\n",
    "artist_df = artist_df.drop_duplicates(subset=['artist_id'])\n",
    "display(artist_df.head())\n",
    "display(artist_df.info())\n",
    "display(artist_df.dtypes)"
   ]
  },
  {
   "cell_type": "markdown",
   "id": "a16f6a3e",
   "metadata": {},
   "source": [
    "## Album Table"
   ]
  },
  {
   "cell_type": "code",
   "execution_count": 26,
   "id": "8b91743a",
   "metadata": {},
   "outputs": [
    {
     "data": {
      "text/plain": [
       "dict_keys(['album_type', 'artists', 'available_markets', 'external_urls', 'href', 'id', 'images', 'name', 'release_date', 'release_date_precision', 'total_tracks', 'type', 'uri'])"
      ]
     },
     "execution_count": 26,
     "metadata": {},
     "output_type": "execute_result"
    }
   ],
   "source": [
    "data['items'][0]['track']['album'].keys()"
   ]
  },
  {
   "cell_type": "code",
   "execution_count": 27,
   "id": "d7f4f762",
   "metadata": {},
   "outputs": [
    {
     "name": "stdout",
     "output_type": "stream",
     "text": [
      "Talwinder -Wishes(Remake)\n",
      "day\n",
      "2023-12-20\n",
      "1\n",
      "https://open.spotify.com/album/5NDcb02xBpTu752ETxKuGN\n"
     ]
    }
   ],
   "source": [
    "print(data['items'][0]['track']['album']['name'])\n",
    "print(data['items'][0]['track']['album']['release_date_precision'])\n",
    "print(data['items'][0]['track']['album']['release_date'])\n",
    "print(data['items'][0]['track']['album']['total_tracks'])\n",
    "print(data['items'][1]['track']['album']['external_urls']['spotify'])"
   ]
  },
  {
   "cell_type": "code",
   "execution_count": 28,
   "id": "0279091e",
   "metadata": {},
   "outputs": [],
   "source": [
    "album_list = []\n",
    "for row in data['items']:\n",
    "    album_id = row['track']['album']['id']\n",
    "    album_name = row['track']['album']['name']\n",
    "    album_release_date = row['track']['album']['release_date']\n",
    "    album_total_tracks = row['track']['album']['total_tracks']\n",
    "    album_url = row['track']['album']['external_urls']['spotify']\n",
    "    album_element = {'album_id':album_id,'name':album_name,'release_date':album_release_date,\n",
    "                        'total_tracks':album_total_tracks,'url':album_url}\n",
    "    album_list.append(album_element)"
   ]
  },
  {
   "cell_type": "code",
   "execution_count": 29,
   "id": "3d64be7d",
   "metadata": {},
   "outputs": [],
   "source": [
    "album_df = pd.DataFrame(album_list)\n",
    "\n",
    "#Convert release_date object to date object\n",
    "album_df['release_date'] = pd.to_datetime(album_df['release_date'])\n",
    "album_df = album_df.drop_duplicates(subset=['album_id'])"
   ]
  },
  {
   "cell_type": "code",
   "execution_count": 30,
   "id": "d8a586a6",
   "metadata": {},
   "outputs": [
    {
     "data": {
      "text/html": [
       "<div>\n",
       "<style scoped>\n",
       "    .dataframe tbody tr th:only-of-type {\n",
       "        vertical-align: middle;\n",
       "    }\n",
       "\n",
       "    .dataframe tbody tr th {\n",
       "        vertical-align: top;\n",
       "    }\n",
       "\n",
       "    .dataframe thead th {\n",
       "        text-align: right;\n",
       "    }\n",
       "</style>\n",
       "<table border=\"1\" class=\"dataframe\">\n",
       "  <thead>\n",
       "    <tr style=\"text-align: right;\">\n",
       "      <th></th>\n",
       "      <th>album_id</th>\n",
       "      <th>name</th>\n",
       "      <th>release_date</th>\n",
       "      <th>total_tracks</th>\n",
       "      <th>url</th>\n",
       "    </tr>\n",
       "  </thead>\n",
       "  <tbody>\n",
       "    <tr>\n",
       "      <th>0</th>\n",
       "      <td>0Y2fBxdTOsqNST07ZabU3o</td>\n",
       "      <td>Talwinder -Wishes(Remake)</td>\n",
       "      <td>2023-12-20</td>\n",
       "      <td>1</td>\n",
       "      <td>https://open.spotify.com/album/0Y2fBxdTOsqNST0...</td>\n",
       "    </tr>\n",
       "    <tr>\n",
       "      <th>1</th>\n",
       "      <td>5NDcb02xBpTu752ETxKuGN</td>\n",
       "      <td>Gulabi Sadi</td>\n",
       "      <td>2024-02-06</td>\n",
       "      <td>1</td>\n",
       "      <td>https://open.spotify.com/album/5NDcb02xBpTu752...</td>\n",
       "    </tr>\n",
       "    <tr>\n",
       "      <th>2</th>\n",
       "      <td>1v8mGOJwWfuEtGEeZUV9ap</td>\n",
       "      <td>Let Her Go x Husn</td>\n",
       "      <td>2024-01-10</td>\n",
       "      <td>1</td>\n",
       "      <td>https://open.spotify.com/album/1v8mGOJwWfuEtGE...</td>\n",
       "    </tr>\n",
       "    <tr>\n",
       "      <th>3</th>\n",
       "      <td>4HKC7enEYHveV7IWP4ZysR</td>\n",
       "      <td>Radha Rani</td>\n",
       "      <td>2021-08-09</td>\n",
       "      <td>1</td>\n",
       "      <td>https://open.spotify.com/album/4HKC7enEYHveV7I...</td>\n",
       "    </tr>\n",
       "    <tr>\n",
       "      <th>4</th>\n",
       "      <td>4uARJ8BzwEFTWigkzZBNMW</td>\n",
       "      <td>Shri Krishna Govind Hare Murari</td>\n",
       "      <td>2023-01-28</td>\n",
       "      <td>1</td>\n",
       "      <td>https://open.spotify.com/album/4uARJ8BzwEFTWig...</td>\n",
       "    </tr>\n",
       "  </tbody>\n",
       "</table>\n",
       "</div>"
      ],
      "text/plain": [
       "                 album_id                             name release_date  \\\n",
       "0  0Y2fBxdTOsqNST07ZabU3o        Talwinder -Wishes(Remake)   2023-12-20   \n",
       "1  5NDcb02xBpTu752ETxKuGN                      Gulabi Sadi   2024-02-06   \n",
       "2  1v8mGOJwWfuEtGEeZUV9ap                Let Her Go x Husn   2024-01-10   \n",
       "3  4HKC7enEYHveV7IWP4ZysR                       Radha Rani   2021-08-09   \n",
       "4  4uARJ8BzwEFTWigkzZBNMW  Shri Krishna Govind Hare Murari   2023-01-28   \n",
       "\n",
       "   total_tracks                                                url  \n",
       "0             1  https://open.spotify.com/album/0Y2fBxdTOsqNST0...  \n",
       "1             1  https://open.spotify.com/album/5NDcb02xBpTu752...  \n",
       "2             1  https://open.spotify.com/album/1v8mGOJwWfuEtGE...  \n",
       "3             1  https://open.spotify.com/album/4HKC7enEYHveV7I...  \n",
       "4             1  https://open.spotify.com/album/4uARJ8BzwEFTWig...  "
      ]
     },
     "metadata": {},
     "output_type": "display_data"
    },
    {
     "name": "stdout",
     "output_type": "stream",
     "text": [
      "<class 'pandas.core.frame.DataFrame'>\n",
      "Int64Index: 30 entries, 0 to 29\n",
      "Data columns (total 5 columns):\n",
      " #   Column        Non-Null Count  Dtype         \n",
      "---  ------        --------------  -----         \n",
      " 0   album_id      30 non-null     object        \n",
      " 1   name          30 non-null     object        \n",
      " 2   release_date  30 non-null     datetime64[ns]\n",
      " 3   total_tracks  30 non-null     int64         \n",
      " 4   url           30 non-null     object        \n",
      "dtypes: datetime64[ns](1), int64(1), object(3)\n",
      "memory usage: 1.4+ KB\n"
     ]
    },
    {
     "data": {
      "text/plain": [
       "None"
      ]
     },
     "metadata": {},
     "output_type": "display_data"
    },
    {
     "data": {
      "text/plain": [
       "album_id                object\n",
       "name                    object\n",
       "release_date    datetime64[ns]\n",
       "total_tracks             int64\n",
       "url                     object\n",
       "dtype: object"
      ]
     },
     "metadata": {},
     "output_type": "display_data"
    }
   ],
   "source": [
    "display(album_df.head())\n",
    "display(album_df.info())\n",
    "display(album_df.dtypes)"
   ]
  },
  {
   "cell_type": "markdown",
   "id": "c6fedd14",
   "metadata": {},
   "source": [
    "## Song Table"
   ]
  },
  {
   "cell_type": "code",
   "execution_count": 31,
   "id": "ef2ab338",
   "metadata": {},
   "outputs": [
    {
     "data": {
      "text/plain": [
       "dict_keys(['album', 'artists', 'available_markets', 'disc_number', 'duration_ms', 'episode', 'explicit', 'external_ids', 'external_urls', 'href', 'id', 'is_local', 'name', 'popularity', 'preview_url', 'track', 'track_number', 'type', 'uri'])"
      ]
     },
     "execution_count": 31,
     "metadata": {},
     "output_type": "execute_result"
    }
   ],
   "source": [
    "data['items'][0]['track'].keys()"
   ]
  },
  {
   "cell_type": "code",
   "execution_count": 32,
   "id": "0b7e5d0a",
   "metadata": {},
   "outputs": [],
   "source": [
    "song_list = []\n",
    "for row in data['items']:\n",
    "    song_id = row['track']['id']\n",
    "    song_name = row['track']['name']\n",
    "    song_duration_mins = round((row['track']['duration_ms']/(60*1000)),2)\n",
    "    song_url = row['track']['external_urls']['spotify']\n",
    "    song_popularity = row['track']['popularity']\n",
    "    song_added = row['added_at']\n",
    "    album_id = row['track']['album']['id']\n",
    "    artist_id = row['track']['album']['artists'][0]['id']\n",
    "    \n",
    "    song_element = {'song_id':song_id,'song_name':song_name,'duration_mins':song_duration_mins,'url':song_url,\n",
    "                    'popularity':song_popularity,'song_added':song_added,'album_id':album_id,\n",
    "                    'artist_id':artist_id\n",
    "                   }\n",
    "    song_list.append(song_element)"
   ]
  },
  {
   "cell_type": "code",
   "execution_count": 33,
   "id": "0bd5abd9",
   "metadata": {},
   "outputs": [],
   "source": [
    "song_df = pd.DataFrame(song_list)\n",
    "song_df['song_added'] = pd.to_datetime(song_df['song_added'])"
   ]
  },
  {
   "cell_type": "code",
   "execution_count": 34,
   "id": "d1e19ac2",
   "metadata": {},
   "outputs": [
    {
     "data": {
      "text/html": [
       "<div>\n",
       "<style scoped>\n",
       "    .dataframe tbody tr th:only-of-type {\n",
       "        vertical-align: middle;\n",
       "    }\n",
       "\n",
       "    .dataframe tbody tr th {\n",
       "        vertical-align: top;\n",
       "    }\n",
       "\n",
       "    .dataframe thead th {\n",
       "        text-align: right;\n",
       "    }\n",
       "</style>\n",
       "<table border=\"1\" class=\"dataframe\">\n",
       "  <thead>\n",
       "    <tr style=\"text-align: right;\">\n",
       "      <th></th>\n",
       "      <th>song_id</th>\n",
       "      <th>song_name</th>\n",
       "      <th>duration_mins</th>\n",
       "      <th>url</th>\n",
       "      <th>popularity</th>\n",
       "      <th>song_added</th>\n",
       "      <th>album_id</th>\n",
       "      <th>artist_id</th>\n",
       "    </tr>\n",
       "  </thead>\n",
       "  <tbody>\n",
       "    <tr>\n",
       "      <th>0</th>\n",
       "      <td>7KwScz1V5CWZgTJcuNzdAt</td>\n",
       "      <td>Talwinder -Wishes(Remake)</td>\n",
       "      <td>2.12</td>\n",
       "      <td>https://open.spotify.com/track/7KwScz1V5CWZgTJ...</td>\n",
       "      <td>65</td>\n",
       "      <td>2024-03-18 04:00:00+00:00</td>\n",
       "      <td>0Y2fBxdTOsqNST07ZabU3o</td>\n",
       "      <td>5Upulgzy3ikWGBdcVRt9FN</td>\n",
       "    </tr>\n",
       "    <tr>\n",
       "      <th>1</th>\n",
       "      <td>4ITtnvLQ6SOA8XhiqkLa24</td>\n",
       "      <td>Gulabi Sadi</td>\n",
       "      <td>3.72</td>\n",
       "      <td>https://open.spotify.com/track/4ITtnvLQ6SOA8Xh...</td>\n",
       "      <td>61</td>\n",
       "      <td>2024-03-18 04:00:00+00:00</td>\n",
       "      <td>5NDcb02xBpTu752ETxKuGN</td>\n",
       "      <td>4B9efXsA6sv4w3vts8E0T7</td>\n",
       "    </tr>\n",
       "    <tr>\n",
       "      <th>2</th>\n",
       "      <td>06fP8ZtG6SRN5gs9MMB1dQ</td>\n",
       "      <td>Let Her Go x Husn</td>\n",
       "      <td>3.98</td>\n",
       "      <td>https://open.spotify.com/track/06fP8ZtG6SRN5gs...</td>\n",
       "      <td>61</td>\n",
       "      <td>2024-03-18 04:00:00+00:00</td>\n",
       "      <td>1v8mGOJwWfuEtGEeZUV9ap</td>\n",
       "      <td>7C2uVXwFKLlwHteHGnMLhZ</td>\n",
       "    </tr>\n",
       "    <tr>\n",
       "      <th>3</th>\n",
       "      <td>7GHA7VIzFaXRuFzOhno8Mc</td>\n",
       "      <td>Radha Rani</td>\n",
       "      <td>6.63</td>\n",
       "      <td>https://open.spotify.com/track/7GHA7VIzFaXRuFz...</td>\n",
       "      <td>57</td>\n",
       "      <td>2024-03-18 04:00:00+00:00</td>\n",
       "      <td>4HKC7enEYHveV7IWP4ZysR</td>\n",
       "      <td>61q6w63qo2S0idIOF7ZkEK</td>\n",
       "    </tr>\n",
       "    <tr>\n",
       "      <th>4</th>\n",
       "      <td>66RyIm3L9OS4BtkEHBupht</td>\n",
       "      <td>Shri Krishna Govind Hare Murari</td>\n",
       "      <td>3.48</td>\n",
       "      <td>https://open.spotify.com/track/66RyIm3L9OS4Btk...</td>\n",
       "      <td>56</td>\n",
       "      <td>2024-03-18 04:00:00+00:00</td>\n",
       "      <td>4uARJ8BzwEFTWigkzZBNMW</td>\n",
       "      <td>73qNxW8UoTSftWynAEiYxA</td>\n",
       "    </tr>\n",
       "  </tbody>\n",
       "</table>\n",
       "</div>"
      ],
      "text/plain": [
       "                  song_id                        song_name  duration_mins  \\\n",
       "0  7KwScz1V5CWZgTJcuNzdAt        Talwinder -Wishes(Remake)           2.12   \n",
       "1  4ITtnvLQ6SOA8XhiqkLa24                      Gulabi Sadi           3.72   \n",
       "2  06fP8ZtG6SRN5gs9MMB1dQ                Let Her Go x Husn           3.98   \n",
       "3  7GHA7VIzFaXRuFzOhno8Mc                       Radha Rani           6.63   \n",
       "4  66RyIm3L9OS4BtkEHBupht  Shri Krishna Govind Hare Murari           3.48   \n",
       "\n",
       "                                                 url  popularity  \\\n",
       "0  https://open.spotify.com/track/7KwScz1V5CWZgTJ...          65   \n",
       "1  https://open.spotify.com/track/4ITtnvLQ6SOA8Xh...          61   \n",
       "2  https://open.spotify.com/track/06fP8ZtG6SRN5gs...          61   \n",
       "3  https://open.spotify.com/track/7GHA7VIzFaXRuFz...          57   \n",
       "4  https://open.spotify.com/track/66RyIm3L9OS4Btk...          56   \n",
       "\n",
       "                 song_added                album_id               artist_id  \n",
       "0 2024-03-18 04:00:00+00:00  0Y2fBxdTOsqNST07ZabU3o  5Upulgzy3ikWGBdcVRt9FN  \n",
       "1 2024-03-18 04:00:00+00:00  5NDcb02xBpTu752ETxKuGN  4B9efXsA6sv4w3vts8E0T7  \n",
       "2 2024-03-18 04:00:00+00:00  1v8mGOJwWfuEtGEeZUV9ap  7C2uVXwFKLlwHteHGnMLhZ  \n",
       "3 2024-03-18 04:00:00+00:00  4HKC7enEYHveV7IWP4ZysR  61q6w63qo2S0idIOF7ZkEK  \n",
       "4 2024-03-18 04:00:00+00:00  4uARJ8BzwEFTWigkzZBNMW  73qNxW8UoTSftWynAEiYxA  "
      ]
     },
     "metadata": {},
     "output_type": "display_data"
    },
    {
     "name": "stdout",
     "output_type": "stream",
     "text": [
      "<class 'pandas.core.frame.DataFrame'>\n",
      "RangeIndex: 30 entries, 0 to 29\n",
      "Data columns (total 8 columns):\n",
      " #   Column         Non-Null Count  Dtype              \n",
      "---  ------         --------------  -----              \n",
      " 0   song_id        30 non-null     object             \n",
      " 1   song_name      30 non-null     object             \n",
      " 2   duration_mins  30 non-null     float64            \n",
      " 3   url            30 non-null     object             \n",
      " 4   popularity     30 non-null     int64              \n",
      " 5   song_added     30 non-null     datetime64[ns, UTC]\n",
      " 6   album_id       30 non-null     object             \n",
      " 7   artist_id      30 non-null     object             \n",
      "dtypes: datetime64[ns, UTC](1), float64(1), int64(1), object(5)\n",
      "memory usage: 2.0+ KB\n"
     ]
    },
    {
     "data": {
      "text/plain": [
       "None"
      ]
     },
     "metadata": {},
     "output_type": "display_data"
    },
    {
     "data": {
      "text/plain": [
       "song_id                       object\n",
       "song_name                     object\n",
       "duration_mins                float64\n",
       "url                           object\n",
       "popularity                     int64\n",
       "song_added       datetime64[ns, UTC]\n",
       "album_id                      object\n",
       "artist_id                     object\n",
       "dtype: object"
      ]
     },
     "metadata": {},
     "output_type": "display_data"
    }
   ],
   "source": [
    "display(song_df.head())\n",
    "display(song_df.info())\n",
    "display(song_df.dtypes)"
   ]
  },
  {
   "cell_type": "code",
   "execution_count": 170,
   "id": "5d4d12d0",
   "metadata": {},
   "outputs": [
    {
     "data": {
      "text/html": [
       "<div>\n",
       "<style scoped>\n",
       "    .dataframe tbody tr th:only-of-type {\n",
       "        vertical-align: middle;\n",
       "    }\n",
       "\n",
       "    .dataframe tbody tr th {\n",
       "        vertical-align: top;\n",
       "    }\n",
       "\n",
       "    .dataframe thead th {\n",
       "        text-align: right;\n",
       "    }\n",
       "</style>\n",
       "<table border=\"1\" class=\"dataframe\">\n",
       "  <thead>\n",
       "    <tr style=\"text-align: right;\">\n",
       "      <th></th>\n",
       "      <th>song_id</th>\n",
       "      <th>song_name</th>\n",
       "      <th>duration_mins</th>\n",
       "      <th>url</th>\n",
       "      <th>popularity</th>\n",
       "      <th>song_added</th>\n",
       "      <th>album_id</th>\n",
       "      <th>artist_id</th>\n",
       "    </tr>\n",
       "  </thead>\n",
       "  <tbody>\n",
       "    <tr>\n",
       "      <th>0</th>\n",
       "      <td>2m6Ko3CY1qXNNja8AlugNc</td>\n",
       "      <td>Angel Baby</td>\n",
       "      <td>3.68</td>\n",
       "      <td>https://open.spotify.com/track/2m6Ko3CY1qXNNja...</td>\n",
       "      <td>78</td>\n",
       "      <td>2023-05-07 16:00:00+00:00</td>\n",
       "      <td>44CdsgXhU5R2esprq0tf43</td>\n",
       "      <td>3WGpXCj9YhhfX11TToZcXP</td>\n",
       "    </tr>\n",
       "    <tr>\n",
       "      <th>1</th>\n",
       "      <td>2p6Fh5ruk8YUaO43huubHW</td>\n",
       "      <td>Collide (Sped Up Remix)</td>\n",
       "      <td>3.69</td>\n",
       "      <td>https://open.spotify.com/track/2p6Fh5ruk8YUaO4...</td>\n",
       "      <td>76</td>\n",
       "      <td>2023-05-07 16:00:00+00:00</td>\n",
       "      <td>0FvZIwN0AHWYQVyuS3KR7H</td>\n",
       "      <td>0jUQSUOcM7lxVn5eVGTkzQ</td>\n",
       "    </tr>\n",
       "    <tr>\n",
       "      <th>2</th>\n",
       "      <td>46cdw28EXOhDPnD1emDC6T</td>\n",
       "      <td>SNAP - High and Fast</td>\n",
       "      <td>2.27</td>\n",
       "      <td>https://open.spotify.com/track/46cdw28EXOhDPnD...</td>\n",
       "      <td>76</td>\n",
       "      <td>2023-05-07 16:00:00+00:00</td>\n",
       "      <td>3CVEB0FPk25Ds64ALgxjH7</td>\n",
       "      <td>46xBNx0j6cwY6sD9LgMTm1</td>\n",
       "    </tr>\n",
       "    <tr>\n",
       "      <th>3</th>\n",
       "      <td>5xwBIieMMFUmLDgvG4DjFe</td>\n",
       "      <td>Fall In Love Alone</td>\n",
       "      <td>3.42</td>\n",
       "      <td>https://open.spotify.com/track/5xwBIieMMFUmLDg...</td>\n",
       "      <td>84</td>\n",
       "      <td>2023-05-07 16:00:00+00:00</td>\n",
       "      <td>0ASnNAycI0eu91gMm9Jfe4</td>\n",
       "      <td>3sXwEUqxSzb11VpuFa5cvJ</td>\n",
       "    </tr>\n",
       "    <tr>\n",
       "      <th>4</th>\n",
       "      <td>08MFgEQeVLF37EyZ7jcwLc</td>\n",
       "      <td>Pano</td>\n",
       "      <td>4.24</td>\n",
       "      <td>https://open.spotify.com/track/08MFgEQeVLF37Ey...</td>\n",
       "      <td>80</td>\n",
       "      <td>2023-05-07 16:00:00+00:00</td>\n",
       "      <td>1HJ34zQqSqNvZeO2W6dE01</td>\n",
       "      <td>67IN4cLJ7798gUapyZlmac</td>\n",
       "    </tr>\n",
       "    <tr>\n",
       "      <th>5</th>\n",
       "      <td>3W4U7TEgILGpq0EmquurtH</td>\n",
       "      <td>Old Love</td>\n",
       "      <td>4.16</td>\n",
       "      <td>https://open.spotify.com/track/3W4U7TEgILGpq0E...</td>\n",
       "      <td>83</td>\n",
       "      <td>2023-05-07 16:00:00+00:00</td>\n",
       "      <td>6mKwqGY2IS3qSs3mgs30A5</td>\n",
       "      <td>5kjFzBMHeoAx9xksFSwfUW</td>\n",
       "    </tr>\n",
       "    <tr>\n",
       "      <th>6</th>\n",
       "      <td>4Wui4miiL1JR3QqWcbcKwD</td>\n",
       "      <td>Love Me Like You Do</td>\n",
       "      <td>4.23</td>\n",
       "      <td>https://open.spotify.com/track/4Wui4miiL1JR3Qq...</td>\n",
       "      <td>66</td>\n",
       "      <td>2023-05-07 16:00:00+00:00</td>\n",
       "      <td>6xQjNm1pNxmXNhDh0GmAOC</td>\n",
       "      <td>0wzdbYD0TtDPvbjQ5QT7nY</td>\n",
       "    </tr>\n",
       "    <tr>\n",
       "      <th>7</th>\n",
       "      <td>3GWaFFi6TlPcZLYmCCHZ9O</td>\n",
       "      <td>Teenage Dream</td>\n",
       "      <td>2.97</td>\n",
       "      <td>https://open.spotify.com/track/3GWaFFi6TlPcZLY...</td>\n",
       "      <td>78</td>\n",
       "      <td>2023-05-07 16:00:00+00:00</td>\n",
       "      <td>1UH6aVsmnWRjsB5Tq0qUhF</td>\n",
       "      <td>3jTU1IOqkO7Mz4zdbXPose</td>\n",
       "    </tr>\n",
       "    <tr>\n",
       "      <th>8</th>\n",
       "      <td>5KeI897tZgjezHKvxlaOaR</td>\n",
       "      <td>Nonsense - Sped Up Version</td>\n",
       "      <td>2.29</td>\n",
       "      <td>https://open.spotify.com/track/5KeI897tZgjezHK...</td>\n",
       "      <td>70</td>\n",
       "      <td>2023-05-07 16:00:00+00:00</td>\n",
       "      <td>23eBqMqUmcb1wcxuXfYw6k</td>\n",
       "      <td>74KM79TiuVKeVCqs8QtB0B</td>\n",
       "    </tr>\n",
       "    <tr>\n",
       "      <th>9</th>\n",
       "      <td>5bvVA6idKl1R38C5G4tuxC</td>\n",
       "      <td>Know me</td>\n",
       "      <td>3.58</td>\n",
       "      <td>https://open.spotify.com/track/5bvVA6idKl1R38C...</td>\n",
       "      <td>63</td>\n",
       "      <td>2023-05-07 16:00:00+00:00</td>\n",
       "      <td>4iV5wZtnTcuKrdhxb8wLVN</td>\n",
       "      <td>67IWlRdLy3UcfY3q968euj</td>\n",
       "    </tr>\n",
       "    <tr>\n",
       "      <th>10</th>\n",
       "      <td>4jf5URUdjQl9pdj7lSVqBa</td>\n",
       "      <td>Sensitive</td>\n",
       "      <td>2.63</td>\n",
       "      <td>https://open.spotify.com/track/4jf5URUdjQl9pdj...</td>\n",
       "      <td>53</td>\n",
       "      <td>2023-05-07 16:00:00+00:00</td>\n",
       "      <td>5snWUfs3P5dAfTEXa4Cf8m</td>\n",
       "      <td>3aROeSNBd69DWHpcyyMOcI</td>\n",
       "    </tr>\n",
       "    <tr>\n",
       "      <th>11</th>\n",
       "      <td>0otRX6Z89qKkHkQ9OqJpKt</td>\n",
       "      <td>Car's Outside</td>\n",
       "      <td>4.14</td>\n",
       "      <td>https://open.spotify.com/track/0otRX6Z89qKkHkQ...</td>\n",
       "      <td>85</td>\n",
       "      <td>2023-05-07 16:00:00+00:00</td>\n",
       "      <td>0cm9LOQUBK3JUgyoRj238z</td>\n",
       "      <td>4IWBUUAFIplrNtaOHcJPRM</td>\n",
       "    </tr>\n",
       "    <tr>\n",
       "      <th>12</th>\n",
       "      <td>0o9zmvc5f3EFApU52PPIyW</td>\n",
       "      <td>Shinunoga E-Wa</td>\n",
       "      <td>3.09</td>\n",
       "      <td>https://open.spotify.com/track/0o9zmvc5f3EFApU...</td>\n",
       "      <td>86</td>\n",
       "      <td>2023-05-07 16:00:00+00:00</td>\n",
       "      <td>1OojCidx0eoPKch2M0Kz31</td>\n",
       "      <td>6bDWAcdtVR3WHz2xtiIPUi</td>\n",
       "    </tr>\n",
       "    <tr>\n",
       "      <th>13</th>\n",
       "      <td>1qsjEmjRzXVsmC0oLitHzN</td>\n",
       "      <td>Once Again</td>\n",
       "      <td>3.93</td>\n",
       "      <td>https://open.spotify.com/track/1qsjEmjRzXVsmC0...</td>\n",
       "      <td>65</td>\n",
       "      <td>2023-05-07 16:00:00+00:00</td>\n",
       "      <td>17TnRTTqr5EkE1omGCTXQg</td>\n",
       "      <td>0dX6tgZKWpamoFHFuXFhwd</td>\n",
       "    </tr>\n",
       "    <tr>\n",
       "      <th>14</th>\n",
       "      <td>6bTbMMEShyGyrcuIwtBlpA</td>\n",
       "      <td>Living Hell</td>\n",
       "      <td>2.90</td>\n",
       "      <td>https://open.spotify.com/track/6bTbMMEShyGyrcu...</td>\n",
       "      <td>72</td>\n",
       "      <td>2023-05-07 16:00:00+00:00</td>\n",
       "      <td>4W8QhTVggLgkJLdsXLLnnz</td>\n",
       "      <td>26cMerAxjx9GedFt0lMDjm</td>\n",
       "    </tr>\n",
       "    <tr>\n",
       "      <th>15</th>\n",
       "      <td>5SjfjoYaRJ5jycgqwV0ow0</td>\n",
       "      <td>Scars</td>\n",
       "      <td>3.20</td>\n",
       "      <td>https://open.spotify.com/track/5SjfjoYaRJ5jycg...</td>\n",
       "      <td>72</td>\n",
       "      <td>2023-05-07 16:00:00+00:00</td>\n",
       "      <td>5ZFNVSacvOj5XKRkqv39tY</td>\n",
       "      <td>6Ge3YISmUWPCUcSVx8VGor</td>\n",
       "    </tr>\n",
       "    <tr>\n",
       "      <th>16</th>\n",
       "      <td>6CdUgvL597jWmW4w8P5kHs</td>\n",
       "      <td>Fine</td>\n",
       "      <td>3.49</td>\n",
       "      <td>https://open.spotify.com/track/6CdUgvL597jWmW4...</td>\n",
       "      <td>69</td>\n",
       "      <td>2023-05-07 16:00:00+00:00</td>\n",
       "      <td>6DlCl3hBP1Gwhn0tgitGfN</td>\n",
       "      <td>3qNVuliS40BLgXGxhdBdqu</td>\n",
       "    </tr>\n",
       "    <tr>\n",
       "      <th>17</th>\n",
       "      <td>6GwtJzM3yffZ4FJ39QuUcE</td>\n",
       "      <td>Anymore</td>\n",
       "      <td>3.30</td>\n",
       "      <td>https://open.spotify.com/track/6GwtJzM3yffZ4FJ...</td>\n",
       "      <td>58</td>\n",
       "      <td>2023-05-07 16:00:00+00:00</td>\n",
       "      <td>63pvOn2B5pUUcUKUwIEg9m</td>\n",
       "      <td>7zYj9S9SdIunYCfSm7vzAR</td>\n",
       "    </tr>\n",
       "    <tr>\n",
       "      <th>18</th>\n",
       "      <td>3TFdXrYIubXABQh0CxIiSs</td>\n",
       "      <td>Asmalibrasi</td>\n",
       "      <td>4.25</td>\n",
       "      <td>https://open.spotify.com/track/3TFdXrYIubXABQh...</td>\n",
       "      <td>80</td>\n",
       "      <td>2023-05-07 16:00:00+00:00</td>\n",
       "      <td>1geFjIWLQNCKO0Y7uB2Xlw</td>\n",
       "      <td>0YpfUFtmzwNGWjowRwoGel</td>\n",
       "    </tr>\n",
       "    <tr>\n",
       "      <th>19</th>\n",
       "      <td>3TfDUStpnEVIlsNlgcKQgJ</td>\n",
       "      <td>die first</td>\n",
       "      <td>2.95</td>\n",
       "      <td>https://open.spotify.com/track/3TfDUStpnEVIlsN...</td>\n",
       "      <td>72</td>\n",
       "      <td>2023-05-07 16:00:00+00:00</td>\n",
       "      <td>4uoeBpJ631QyWNHw9GqTEn</td>\n",
       "      <td>7pwufEBGfggjoI8twqlsmQ</td>\n",
       "    </tr>\n",
       "    <tr>\n",
       "      <th>20</th>\n",
       "      <td>5fDCy4Hse30ZsjaTUGKVh5</td>\n",
       "      <td>Sang Dewi</td>\n",
       "      <td>4.13</td>\n",
       "      <td>https://open.spotify.com/track/5fDCy4Hse30Zsja...</td>\n",
       "      <td>78</td>\n",
       "      <td>2023-05-07 16:00:00+00:00</td>\n",
       "      <td>5JO7f6aqA0Tw1vfZuwLr0I</td>\n",
       "      <td>6Sv2jkzH9sWQjwghW5ArMG</td>\n",
       "    </tr>\n",
       "    <tr>\n",
       "      <th>21</th>\n",
       "      <td>3XBMJF4N7ZdZrK30oGCxpN</td>\n",
       "      <td>Hard 2 Face Reality</td>\n",
       "      <td>3.28</td>\n",
       "      <td>https://open.spotify.com/track/3XBMJF4N7ZdZrK3...</td>\n",
       "      <td>66</td>\n",
       "      <td>2023-05-07 16:00:00+00:00</td>\n",
       "      <td>4IibNIC3LGip4ppu6Mnin9</td>\n",
       "      <td>3JXpwnHbLvXxY99EuXqFPX</td>\n",
       "    </tr>\n",
       "    <tr>\n",
       "      <th>22</th>\n",
       "      <td>4pDenOoD01LCPgkzJgu437</td>\n",
       "      <td>RIP, Love</td>\n",
       "      <td>2.90</td>\n",
       "      <td>https://open.spotify.com/track/4pDenOoD01LCPgk...</td>\n",
       "      <td>57</td>\n",
       "      <td>2023-05-07 16:00:00+00:00</td>\n",
       "      <td>3nh4uK04eRkHyrxIDWEfkp</td>\n",
       "      <td>5NhgsV7qPWHZqYEMKzbYvo</td>\n",
       "    </tr>\n",
       "    <tr>\n",
       "      <th>23</th>\n",
       "      <td>1ei3hzQmrgealgRKFxIcWn</td>\n",
       "      <td>In The Stars</td>\n",
       "      <td>3.61</td>\n",
       "      <td>https://open.spotify.com/track/1ei3hzQmrgealgR...</td>\n",
       "      <td>84</td>\n",
       "      <td>2023-05-07 16:00:00+00:00</td>\n",
       "      <td>6dSmXsyGAnFtq048IFhiYd</td>\n",
       "      <td>22wbnEMDvgVIAGdFeek6ET</td>\n",
       "    </tr>\n",
       "    <tr>\n",
       "      <th>24</th>\n",
       "      <td>5Z2DNRAhs6r4VdINVkRhYY</td>\n",
       "      <td>SHOUT OUT</td>\n",
       "      <td>3.80</td>\n",
       "      <td>https://open.spotify.com/track/5Z2DNRAhs6r4VdI...</td>\n",
       "      <td>74</td>\n",
       "      <td>2023-05-07 16:00:00+00:00</td>\n",
       "      <td>5J8MNLLViH5zqM6VoGErz8</td>\n",
       "      <td>5t5FqBwTcgKTaWmfEbwQY9</td>\n",
       "    </tr>\n",
       "    <tr>\n",
       "      <th>25</th>\n",
       "      <td>2CcQDI2IDhHbmBIFup58JE</td>\n",
       "      <td>Daydreamin'</td>\n",
       "      <td>3.52</td>\n",
       "      <td>https://open.spotify.com/track/2CcQDI2IDhHbmBI...</td>\n",
       "      <td>75</td>\n",
       "      <td>2023-05-07 16:00:00+00:00</td>\n",
       "      <td>6czdbbMtGbAkZ6ud2OMTcg</td>\n",
       "      <td>66CXWjxzNUsdJxJ2JdwvnR</td>\n",
       "    </tr>\n",
       "    <tr>\n",
       "      <th>26</th>\n",
       "      <td>0KpWiHVmIFDTvai20likX4</td>\n",
       "      <td>drunk text</td>\n",
       "      <td>3.12</td>\n",
       "      <td>https://open.spotify.com/track/0KpWiHVmIFDTvai...</td>\n",
       "      <td>76</td>\n",
       "      <td>2023-05-07 16:00:00+00:00</td>\n",
       "      <td>0lcfkucXPJH7zGSHbUXUjZ</td>\n",
       "      <td>7hr9W3IjXcm3UlLY7guLk5</td>\n",
       "    </tr>\n",
       "    <tr>\n",
       "      <th>27</th>\n",
       "      <td>6dXiWwFrcGieqnoLYzPNp5</td>\n",
       "      <td>Sial</td>\n",
       "      <td>4.06</td>\n",
       "      <td>https://open.spotify.com/track/6dXiWwFrcGieqno...</td>\n",
       "      <td>87</td>\n",
       "      <td>2023-05-07 16:00:00+00:00</td>\n",
       "      <td>6iBh7T1cUR8MPrtly5xugU</td>\n",
       "      <td>3wOsYKZM0zcKNasi3I7fP4</td>\n",
       "    </tr>\n",
       "    <tr>\n",
       "      <th>28</th>\n",
       "      <td>2w5aTimRJjWefNoXaoCpd4</td>\n",
       "      <td>Until I Found You (Sped Up) - Heaven When I He...</td>\n",
       "      <td>2.06</td>\n",
       "      <td>https://open.spotify.com/track/2w5aTimRJjWefNo...</td>\n",
       "      <td>72</td>\n",
       "      <td>2023-05-07 16:00:00+00:00</td>\n",
       "      <td>13JS9rH3cjTaWAjhrAxrpx</td>\n",
       "      <td>0KYOBAf6Zky4CFQne2JPTX</td>\n",
       "    </tr>\n",
       "    <tr>\n",
       "      <th>29</th>\n",
       "      <td>4KL3FJYexPrPuMdPagHPXp</td>\n",
       "      <td>Yours</td>\n",
       "      <td>3.92</td>\n",
       "      <td>https://open.spotify.com/track/4KL3FJYexPrPuMd...</td>\n",
       "      <td>68</td>\n",
       "      <td>2023-05-07 16:00:00+00:00</td>\n",
       "      <td>01RsFGO7W7xaRM4T2p1Xdn</td>\n",
       "      <td>4YXNoMVTHRt01jYaKXTumJ</td>\n",
       "    </tr>\n",
       "  </tbody>\n",
       "</table>\n",
       "</div>"
      ],
      "text/plain": [
       "                   song_id                                          song_name  \\\n",
       "0   2m6Ko3CY1qXNNja8AlugNc                                         Angel Baby   \n",
       "1   2p6Fh5ruk8YUaO43huubHW                            Collide (Sped Up Remix)   \n",
       "2   46cdw28EXOhDPnD1emDC6T                               SNAP - High and Fast   \n",
       "3   5xwBIieMMFUmLDgvG4DjFe                                 Fall In Love Alone   \n",
       "4   08MFgEQeVLF37EyZ7jcwLc                                               Pano   \n",
       "5   3W4U7TEgILGpq0EmquurtH                                           Old Love   \n",
       "6   4Wui4miiL1JR3QqWcbcKwD                                Love Me Like You Do   \n",
       "7   3GWaFFi6TlPcZLYmCCHZ9O                                      Teenage Dream   \n",
       "8   5KeI897tZgjezHKvxlaOaR                         Nonsense - Sped Up Version   \n",
       "9   5bvVA6idKl1R38C5G4tuxC                                            Know me   \n",
       "10  4jf5URUdjQl9pdj7lSVqBa                                          Sensitive   \n",
       "11  0otRX6Z89qKkHkQ9OqJpKt                                      Car's Outside   \n",
       "12  0o9zmvc5f3EFApU52PPIyW                                     Shinunoga E-Wa   \n",
       "13  1qsjEmjRzXVsmC0oLitHzN                                         Once Again   \n",
       "14  6bTbMMEShyGyrcuIwtBlpA                                        Living Hell   \n",
       "15  5SjfjoYaRJ5jycgqwV0ow0                                              Scars   \n",
       "16  6CdUgvL597jWmW4w8P5kHs                                               Fine   \n",
       "17  6GwtJzM3yffZ4FJ39QuUcE                                            Anymore   \n",
       "18  3TFdXrYIubXABQh0CxIiSs                                        Asmalibrasi   \n",
       "19  3TfDUStpnEVIlsNlgcKQgJ                                          die first   \n",
       "20  5fDCy4Hse30ZsjaTUGKVh5                                          Sang Dewi   \n",
       "21  3XBMJF4N7ZdZrK30oGCxpN                                Hard 2 Face Reality   \n",
       "22  4pDenOoD01LCPgkzJgu437                                          RIP, Love   \n",
       "23  1ei3hzQmrgealgRKFxIcWn                                       In The Stars   \n",
       "24  5Z2DNRAhs6r4VdINVkRhYY                                          SHOUT OUT   \n",
       "25  2CcQDI2IDhHbmBIFup58JE                                        Daydreamin'   \n",
       "26  0KpWiHVmIFDTvai20likX4                                         drunk text   \n",
       "27  6dXiWwFrcGieqnoLYzPNp5                                               Sial   \n",
       "28  2w5aTimRJjWefNoXaoCpd4  Until I Found You (Sped Up) - Heaven When I He...   \n",
       "29  4KL3FJYexPrPuMdPagHPXp                                              Yours   \n",
       "\n",
       "    duration_mins                                                url  \\\n",
       "0            3.68  https://open.spotify.com/track/2m6Ko3CY1qXNNja...   \n",
       "1            3.69  https://open.spotify.com/track/2p6Fh5ruk8YUaO4...   \n",
       "2            2.27  https://open.spotify.com/track/46cdw28EXOhDPnD...   \n",
       "3            3.42  https://open.spotify.com/track/5xwBIieMMFUmLDg...   \n",
       "4            4.24  https://open.spotify.com/track/08MFgEQeVLF37Ey...   \n",
       "5            4.16  https://open.spotify.com/track/3W4U7TEgILGpq0E...   \n",
       "6            4.23  https://open.spotify.com/track/4Wui4miiL1JR3Qq...   \n",
       "7            2.97  https://open.spotify.com/track/3GWaFFi6TlPcZLY...   \n",
       "8            2.29  https://open.spotify.com/track/5KeI897tZgjezHK...   \n",
       "9            3.58  https://open.spotify.com/track/5bvVA6idKl1R38C...   \n",
       "10           2.63  https://open.spotify.com/track/4jf5URUdjQl9pdj...   \n",
       "11           4.14  https://open.spotify.com/track/0otRX6Z89qKkHkQ...   \n",
       "12           3.09  https://open.spotify.com/track/0o9zmvc5f3EFApU...   \n",
       "13           3.93  https://open.spotify.com/track/1qsjEmjRzXVsmC0...   \n",
       "14           2.90  https://open.spotify.com/track/6bTbMMEShyGyrcu...   \n",
       "15           3.20  https://open.spotify.com/track/5SjfjoYaRJ5jycg...   \n",
       "16           3.49  https://open.spotify.com/track/6CdUgvL597jWmW4...   \n",
       "17           3.30  https://open.spotify.com/track/6GwtJzM3yffZ4FJ...   \n",
       "18           4.25  https://open.spotify.com/track/3TFdXrYIubXABQh...   \n",
       "19           2.95  https://open.spotify.com/track/3TfDUStpnEVIlsN...   \n",
       "20           4.13  https://open.spotify.com/track/5fDCy4Hse30Zsja...   \n",
       "21           3.28  https://open.spotify.com/track/3XBMJF4N7ZdZrK3...   \n",
       "22           2.90  https://open.spotify.com/track/4pDenOoD01LCPgk...   \n",
       "23           3.61  https://open.spotify.com/track/1ei3hzQmrgealgR...   \n",
       "24           3.80  https://open.spotify.com/track/5Z2DNRAhs6r4VdI...   \n",
       "25           3.52  https://open.spotify.com/track/2CcQDI2IDhHbmBI...   \n",
       "26           3.12  https://open.spotify.com/track/0KpWiHVmIFDTvai...   \n",
       "27           4.06  https://open.spotify.com/track/6dXiWwFrcGieqno...   \n",
       "28           2.06  https://open.spotify.com/track/2w5aTimRJjWefNo...   \n",
       "29           3.92  https://open.spotify.com/track/4KL3FJYexPrPuMd...   \n",
       "\n",
       "    popularity                song_added                album_id  \\\n",
       "0           78 2023-05-07 16:00:00+00:00  44CdsgXhU5R2esprq0tf43   \n",
       "1           76 2023-05-07 16:00:00+00:00  0FvZIwN0AHWYQVyuS3KR7H   \n",
       "2           76 2023-05-07 16:00:00+00:00  3CVEB0FPk25Ds64ALgxjH7   \n",
       "3           84 2023-05-07 16:00:00+00:00  0ASnNAycI0eu91gMm9Jfe4   \n",
       "4           80 2023-05-07 16:00:00+00:00  1HJ34zQqSqNvZeO2W6dE01   \n",
       "5           83 2023-05-07 16:00:00+00:00  6mKwqGY2IS3qSs3mgs30A5   \n",
       "6           66 2023-05-07 16:00:00+00:00  6xQjNm1pNxmXNhDh0GmAOC   \n",
       "7           78 2023-05-07 16:00:00+00:00  1UH6aVsmnWRjsB5Tq0qUhF   \n",
       "8           70 2023-05-07 16:00:00+00:00  23eBqMqUmcb1wcxuXfYw6k   \n",
       "9           63 2023-05-07 16:00:00+00:00  4iV5wZtnTcuKrdhxb8wLVN   \n",
       "10          53 2023-05-07 16:00:00+00:00  5snWUfs3P5dAfTEXa4Cf8m   \n",
       "11          85 2023-05-07 16:00:00+00:00  0cm9LOQUBK3JUgyoRj238z   \n",
       "12          86 2023-05-07 16:00:00+00:00  1OojCidx0eoPKch2M0Kz31   \n",
       "13          65 2023-05-07 16:00:00+00:00  17TnRTTqr5EkE1omGCTXQg   \n",
       "14          72 2023-05-07 16:00:00+00:00  4W8QhTVggLgkJLdsXLLnnz   \n",
       "15          72 2023-05-07 16:00:00+00:00  5ZFNVSacvOj5XKRkqv39tY   \n",
       "16          69 2023-05-07 16:00:00+00:00  6DlCl3hBP1Gwhn0tgitGfN   \n",
       "17          58 2023-05-07 16:00:00+00:00  63pvOn2B5pUUcUKUwIEg9m   \n",
       "18          80 2023-05-07 16:00:00+00:00  1geFjIWLQNCKO0Y7uB2Xlw   \n",
       "19          72 2023-05-07 16:00:00+00:00  4uoeBpJ631QyWNHw9GqTEn   \n",
       "20          78 2023-05-07 16:00:00+00:00  5JO7f6aqA0Tw1vfZuwLr0I   \n",
       "21          66 2023-05-07 16:00:00+00:00  4IibNIC3LGip4ppu6Mnin9   \n",
       "22          57 2023-05-07 16:00:00+00:00  3nh4uK04eRkHyrxIDWEfkp   \n",
       "23          84 2023-05-07 16:00:00+00:00  6dSmXsyGAnFtq048IFhiYd   \n",
       "24          74 2023-05-07 16:00:00+00:00  5J8MNLLViH5zqM6VoGErz8   \n",
       "25          75 2023-05-07 16:00:00+00:00  6czdbbMtGbAkZ6ud2OMTcg   \n",
       "26          76 2023-05-07 16:00:00+00:00  0lcfkucXPJH7zGSHbUXUjZ   \n",
       "27          87 2023-05-07 16:00:00+00:00  6iBh7T1cUR8MPrtly5xugU   \n",
       "28          72 2023-05-07 16:00:00+00:00  13JS9rH3cjTaWAjhrAxrpx   \n",
       "29          68 2023-05-07 16:00:00+00:00  01RsFGO7W7xaRM4T2p1Xdn   \n",
       "\n",
       "                 artist_id  \n",
       "0   3WGpXCj9YhhfX11TToZcXP  \n",
       "1   0jUQSUOcM7lxVn5eVGTkzQ  \n",
       "2   46xBNx0j6cwY6sD9LgMTm1  \n",
       "3   3sXwEUqxSzb11VpuFa5cvJ  \n",
       "4   67IN4cLJ7798gUapyZlmac  \n",
       "5   5kjFzBMHeoAx9xksFSwfUW  \n",
       "6   0wzdbYD0TtDPvbjQ5QT7nY  \n",
       "7   3jTU1IOqkO7Mz4zdbXPose  \n",
       "8   74KM79TiuVKeVCqs8QtB0B  \n",
       "9   67IWlRdLy3UcfY3q968euj  \n",
       "10  3aROeSNBd69DWHpcyyMOcI  \n",
       "11  4IWBUUAFIplrNtaOHcJPRM  \n",
       "12  6bDWAcdtVR3WHz2xtiIPUi  \n",
       "13  0dX6tgZKWpamoFHFuXFhwd  \n",
       "14  26cMerAxjx9GedFt0lMDjm  \n",
       "15  6Ge3YISmUWPCUcSVx8VGor  \n",
       "16  3qNVuliS40BLgXGxhdBdqu  \n",
       "17  7zYj9S9SdIunYCfSm7vzAR  \n",
       "18  0YpfUFtmzwNGWjowRwoGel  \n",
       "19  7pwufEBGfggjoI8twqlsmQ  \n",
       "20  6Sv2jkzH9sWQjwghW5ArMG  \n",
       "21  3JXpwnHbLvXxY99EuXqFPX  \n",
       "22  5NhgsV7qPWHZqYEMKzbYvo  \n",
       "23  22wbnEMDvgVIAGdFeek6ET  \n",
       "24  5t5FqBwTcgKTaWmfEbwQY9  \n",
       "25  66CXWjxzNUsdJxJ2JdwvnR  \n",
       "26  7hr9W3IjXcm3UlLY7guLk5  \n",
       "27  3wOsYKZM0zcKNasi3I7fP4  \n",
       "28  0KYOBAf6Zky4CFQne2JPTX  \n",
       "29  4YXNoMVTHRt01jYaKXTumJ  "
      ]
     },
     "execution_count": 170,
     "metadata": {},
     "output_type": "execute_result"
    }
   ],
   "source": [
    "song_df"
   ]
  }
 ],
 "metadata": {
  "kernelspec": {
   "display_name": "Python 3 (ipykernel)",
   "language": "python",
   "name": "python3"
  },
  "language_info": {
   "codemirror_mode": {
    "name": "ipython",
    "version": 3
   },
   "file_extension": ".py",
   "mimetype": "text/x-python",
   "name": "python",
   "nbconvert_exporter": "python",
   "pygments_lexer": "ipython3",
   "version": "3.11.4"
  }
 },
 "nbformat": 4,
 "nbformat_minor": 5
}
